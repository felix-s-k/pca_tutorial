{
  "nbformat": 4,
  "nbformat_minor": 0,
  "metadata": {
    "colab": {
      "provenance": [],
      "toc_visible": true
    },
    "kernelspec": {
      "name": "python3",
      "display_name": "Python 3"
    },
    "language_info": {
      "name": "python"
    }
  },
  "cells": [
    {
      "cell_type": "markdown",
      "source": [
        "## **Hauptkomponentenanalyse (PCA)**"
      ],
      "metadata": {
        "id": "jqIfShACk23n"
      }
    },
    {
      "cell_type": "markdown",
      "source": [
        "Dieses Notebook enthält Beispiele für die Verwendung von Hauptkomponentenanalyse (PCA) in der Chemie. Alle Beispiele verwenden Python-Code, um die Hauptkomponentenanalyse durchzuführen und die Daten zu visualisieren.\n",
        "\n",
        "Einzelne Kapitel können über den kleinen Pfeil neben dem Kapitelnamen (▶) aufgeklappt oder zugeklappt werden. Im \"zugeklappten\" Zustand kann ein gesamtes Kapitel durch Klick auf den \"Ausführen\"-Button (links neben der Information `↪ X Zellen ausgeblendet`) ausgeführt werden. Alternativ können die Zellen innerhalb eines Kapitels auch einzeln ausgeführt werden. Weitere Erklärungen dazu finden sich in dem jeweiligen Kapitel. "
      ],
      "metadata": {
        "id": "mv876iIZkflV"
      }
    },
    {
      "cell_type": "markdown",
      "source": [
        "## Elemente im Periodensystem"
      ],
      "metadata": {
        "id": "lq0cGfC7n_MM"
      }
    },
    {
      "cell_type": "markdown",
      "source": [
        "Dieser Abschnitt verarbeitet den in der Lehrprobe ausführlich diskutierten Datensatz zu Elementen im Periodensystem und ihren Eigenschaften."
      ],
      "metadata": {
        "id": "D_WNFLvc1eqz"
      }
    },
    {
      "cell_type": "markdown",
      "source": [
        "In der ersten Zelle werden lediglich die für die Datenverarbeitung, Berechnung und Darstellung notwendigen Module importiert."
      ],
      "metadata": {
        "id": "Z5MqbBngmP5M"
      }
    },
    {
      "cell_type": "code",
      "execution_count": 31,
      "metadata": {
        "id": "T-aRD_YRRS0u"
      },
      "outputs": [],
      "source": [
        "import pandas as pd\n",
        "import numpy as np\n",
        "from sklearn.decomposition import PCA\n",
        "import plotly.express as px"
      ]
    },
    {
      "cell_type": "markdown",
      "source": [
        "Im ersten Schritt wird der Datensatz importiert. Die für die  Hauptkomponentenanalyse verwendeten Variablen können über die Liste `feature_names` angepasst werden."
      ],
      "metadata": {
        "id": "GIwOXPYtmc3u"
      }
    },
    {
      "cell_type": "code",
      "source": [
        "feature_names = [\n",
        "    \"ionization_potential\",\n",
        "    \"van_der_waals_radius\",\n",
        "    \"pauling_electronegativity\",\n",
        "    \"polarizability\",\n",
        "    \"mc_gowan_volume\",\n",
        "]\n",
        "\n",
        "element_dataset = pd.read_csv('element_dataset.csv', index_col=0)"
      ],
      "metadata": {
        "id": "GSBVfD6PhASH"
      },
      "execution_count": 32,
      "outputs": []
    },
    {
      "cell_type": "markdown",
      "source": [
        "Im zweiten Schritt werden die Daten skaliert, indem für jede Variable der Mittelwert subtrahiert wird und anschließend durch die Varianz des Datensatzes dividiert wird. "
      ],
      "metadata": {
        "id": "c9GfnPgqnKpI"
      }
    },
    {
      "cell_type": "code",
      "source": [
        "scale_features = True\n",
        "\n",
        "features = element_dataset[feature_names].to_numpy()\n",
        "\n",
        "if scale_features is True:\n",
        "    for i in range(features.shape[1]):\n",
        "        features[:, i] = (features[:, i] - np.mean(features[:, i])) / np.std(features[:, i])"
      ],
      "metadata": {
        "id": "sUUUCcrgikuj"
      },
      "execution_count": 33,
      "outputs": []
    },
    {
      "cell_type": "markdown",
      "source": [
        "Anschließend werden die Hauptkomponenten berechnet."
      ],
      "metadata": {
        "id": "Jd9Q7Pq0nWG5"
      }
    },
    {
      "cell_type": "code",
      "source": [
        "pca_model = PCA()\n",
        "pca_model.fit(features)\n",
        "data_transformed = pca_model.transform(features)"
      ],
      "metadata": {
        "id": "OZ5rzyLhi7V7"
      },
      "execution_count": 34,
      "outputs": []
    },
    {
      "cell_type": "markdown",
      "source": [
        "Die letzte Zelle dient der Visualisierung der erhaltenen Daten und generiert einen interaktiven Plot der Daten als Funktion der ersten beiden Hauptkomponenten. "
      ],
      "metadata": {
        "id": "g0YPi5_ZneiK"
      }
    },
    {
      "cell_type": "code",
      "source": [
        "fig = px.scatter(\n",
        "    data_transformed[:, :2],\n",
        "    x=0,\n",
        "    y=1,\n",
        "    labels={\"0\": \"Hauptkomponente 1\", \"1\": \"Hauptkomponente 2\"},\n",
        "    hover_name=element_dataset.index.values,\n",
        "    size=np.ones(data_transformed.shape[0]),\n",
        "    range_x=(-1.05 * np.max(np.abs(data_transformed[:, 0])), 1.05 * np.max(np.abs(data_transformed[:, 0]))),\n",
        "    range_y=(-1.05 * np.max(np.abs(data_transformed[:, 1])), 1.05 * np.max(np.abs(data_transformed[:, 1]))),\n",
        ")\n",
        "\n",
        "fig.update_traces(hovertemplate=\"<b>%{hovertext}</b><br>\")\n",
        "fig.update_layout(paper_bgcolor=\"rgba(0, 0, 0, 0)\", plot_bgcolor=\"rgba(0, 0, 0, 0.1)\")\n",
        "fig.update_xaxes(showgrid=True, gridcolor=\"rgba(0, 0, 0, 0.2)\", gridwidth=1, zeroline=True, zerolinecolor=\"rgba(0, 0, 0, 0.2)\", zerolinewidth=1)\n",
        "fig.update_yaxes(showgrid=True, gridcolor=\"rgba(0, 0, 0, 0.2)\", gridwidth=1, zeroline=True, zerolinecolor=\"rgba(0, 0, 0, 0.2)\", zerolinewidth=1)\n",
        "fig.show()"
      ],
      "metadata": {
        "colab": {
          "base_uri": "https://localhost:8080/",
          "height": 542
        },
        "id": "i1RiN4VGjVNP",
        "outputId": "83204cbb-194b-417f-a146-17917d9d9dae"
      },
      "execution_count": 35,
      "outputs": [
        {
          "output_type": "display_data",
          "data": {
            "text/html": [
              "<html>\n",
              "<head><meta charset=\"utf-8\" /></head>\n",
              "<body>\n",
              "    <div>            <script src=\"https://cdnjs.cloudflare.com/ajax/libs/mathjax/2.7.5/MathJax.js?config=TeX-AMS-MML_SVG\"></script><script type=\"text/javascript\">if (window.MathJax && window.MathJax.Hub && window.MathJax.Hub.Config) {window.MathJax.Hub.Config({SVG: {font: \"STIX-Web\"}});}</script>                <script type=\"text/javascript\">window.PlotlyConfig = {MathJaxConfig: 'local'};</script>\n",
              "        <script src=\"https://cdn.plot.ly/plotly-2.18.2.min.js\"></script>                <div id=\"026621c5-233d-4dbd-8b91-c271a770d63e\" class=\"plotly-graph-div\" style=\"height:525px; width:100%;\"></div>            <script type=\"text/javascript\">                                    window.PLOTLYENV=window.PLOTLYENV || {};                                    if (document.getElementById(\"026621c5-233d-4dbd-8b91-c271a770d63e\")) {                    Plotly.newPlot(                        \"026621c5-233d-4dbd-8b91-c271a770d63e\",                        [{\"hovertemplate\":\"<b>%{hovertext}</b><br>\",\"hovertext\":[\"H\",\"Li\",\"Be\",\"B\",\"C\",\"N\",\"O\",\"F\",\"Na\",\"Mg\",\"Al\",\"Si\",\"P\",\"S\",\"Cl\",\"K\",\"Ca\",\"Sc\",\"Ti\",\"V\",\"Cr\",\"Mn\",\"Fe\",\"Co\",\"Ni\",\"Cu\",\"Zn\",\"Ga\",\"Ge\",\"As\",\"Se\",\"Br\",\"Rb\",\"Sr\",\"Y\",\"Zr\",\"Nb\",\"Mo\",\"Tc\",\"Ru\",\"Rh\",\"Pd\",\"Ag\",\"Cd\",\"In\",\"Sn\",\"Sb\",\"Te\",\"I\"],\"legendgroup\":\"\",\"marker\":{\"color\":\"#636efa\",\"size\":[1.0,1.0,1.0,1.0,1.0,1.0,1.0,1.0,1.0,1.0,1.0,1.0,1.0,1.0,1.0,1.0,1.0,1.0,1.0,1.0,1.0,1.0,1.0,1.0,1.0,1.0,1.0,1.0,1.0,1.0,1.0,1.0,1.0,1.0,1.0,1.0,1.0,1.0,1.0,1.0,1.0,1.0,1.0,1.0,1.0,1.0,1.0,1.0,1.0],\"sizemode\":\"area\",\"sizeref\":0.0025,\"symbol\":\"circle\"},\"mode\":\"markers\",\"name\":\"\",\"orientation\":\"v\",\"showlegend\":false,\"x\":[-3.7791176677772556,1.0439777869301359,-1.3780848728697637,-1.1197248612122324,-2.424601768936718,-3.6303837886044277,-3.8616133277232847,-5.02986658593217,2.1207185071165333,-0.04639372606163562,-0.034798208206727986,-0.3408230884270548,-1.5331938625962633,-1.869572929905866,-2.879231416556382,4.536725697237422,2.4816792246902493,1.646204739771688,1.2217579629600641,0.9636905252849484,0.8359756704074822,0.6263499537367856,0.24496252314951938,0.06248301776392264,-0.04502992491015571,-0.1480158737744968,-0.2687668221154429,0.05987997167245835,-0.20422749492115033,-1.151441211689046,-1.3959776350357993,-2.1857628827911353,5.4433919507181034,3.159084077023915,2.5478118618352137,1.9972363030626374,1.5683142734323576,0.9364124231070671,0.9465250389448057,0.5527505874819012,0.339737843401478,0.015115041226527341,0.37970544114741195,0.3721281534108013,0.5738788435614915,0.3787216160484324,-0.17189443306569666,-0.37773495114525885,-1.1789617008653885],\"xaxis\":\"x\",\"y\":[1.5679958796497169,2.191793315244081,1.5720271365544018,0.700318938548584,0.28174092450072485,-0.25741402895404225,-0.4073471596797585,-1.2087946433668455,1.1532310602223765,1.323037582036915,1.1127343915556327,0.2505175943657821,0.23390863091595485,-0.048184314499088436,-0.751269565510521,-0.022184753692034636,0.20642652041462653,0.09015398961598582,-0.007867915891316947,0.026567095183425385,0.06948132080273119,0.1593772601230359,-0.0881168679609489,-0.013784075401397972,0.09137835727083396,0.16545209251243387,0.190750927597093,0.7323079173601799,-0.0035282743183836862,0.07169704999243448,-0.29218643804859284,-0.7848397709877509,-0.738638225435173,-0.3019455611599151,-0.29678181337742743,-0.27950034549951347,-0.42413291003821657,-0.9343611904728377,-0.6408649378402773,-0.8366031938262222,-0.8208772970448295,-0.8102326590671124,-0.4041963383044924,-0.38307127051869294,0.37704893517170246,-0.30046661220427695,-0.30758134756171474,-0.3456374151351288,-0.8575379938421396],\"yaxis\":\"y\",\"type\":\"scatter\"}],                        {\"template\":{\"data\":{\"histogram2dcontour\":[{\"type\":\"histogram2dcontour\",\"colorbar\":{\"outlinewidth\":0,\"ticks\":\"\"},\"colorscale\":[[0.0,\"#0d0887\"],[0.1111111111111111,\"#46039f\"],[0.2222222222222222,\"#7201a8\"],[0.3333333333333333,\"#9c179e\"],[0.4444444444444444,\"#bd3786\"],[0.5555555555555556,\"#d8576b\"],[0.6666666666666666,\"#ed7953\"],[0.7777777777777778,\"#fb9f3a\"],[0.8888888888888888,\"#fdca26\"],[1.0,\"#f0f921\"]]}],\"choropleth\":[{\"type\":\"choropleth\",\"colorbar\":{\"outlinewidth\":0,\"ticks\":\"\"}}],\"histogram2d\":[{\"type\":\"histogram2d\",\"colorbar\":{\"outlinewidth\":0,\"ticks\":\"\"},\"colorscale\":[[0.0,\"#0d0887\"],[0.1111111111111111,\"#46039f\"],[0.2222222222222222,\"#7201a8\"],[0.3333333333333333,\"#9c179e\"],[0.4444444444444444,\"#bd3786\"],[0.5555555555555556,\"#d8576b\"],[0.6666666666666666,\"#ed7953\"],[0.7777777777777778,\"#fb9f3a\"],[0.8888888888888888,\"#fdca26\"],[1.0,\"#f0f921\"]]}],\"heatmap\":[{\"type\":\"heatmap\",\"colorbar\":{\"outlinewidth\":0,\"ticks\":\"\"},\"colorscale\":[[0.0,\"#0d0887\"],[0.1111111111111111,\"#46039f\"],[0.2222222222222222,\"#7201a8\"],[0.3333333333333333,\"#9c179e\"],[0.4444444444444444,\"#bd3786\"],[0.5555555555555556,\"#d8576b\"],[0.6666666666666666,\"#ed7953\"],[0.7777777777777778,\"#fb9f3a\"],[0.8888888888888888,\"#fdca26\"],[1.0,\"#f0f921\"]]}],\"heatmapgl\":[{\"type\":\"heatmapgl\",\"colorbar\":{\"outlinewidth\":0,\"ticks\":\"\"},\"colorscale\":[[0.0,\"#0d0887\"],[0.1111111111111111,\"#46039f\"],[0.2222222222222222,\"#7201a8\"],[0.3333333333333333,\"#9c179e\"],[0.4444444444444444,\"#bd3786\"],[0.5555555555555556,\"#d8576b\"],[0.6666666666666666,\"#ed7953\"],[0.7777777777777778,\"#fb9f3a\"],[0.8888888888888888,\"#fdca26\"],[1.0,\"#f0f921\"]]}],\"contourcarpet\":[{\"type\":\"contourcarpet\",\"colorbar\":{\"outlinewidth\":0,\"ticks\":\"\"}}],\"contour\":[{\"type\":\"contour\",\"colorbar\":{\"outlinewidth\":0,\"ticks\":\"\"},\"colorscale\":[[0.0,\"#0d0887\"],[0.1111111111111111,\"#46039f\"],[0.2222222222222222,\"#7201a8\"],[0.3333333333333333,\"#9c179e\"],[0.4444444444444444,\"#bd3786\"],[0.5555555555555556,\"#d8576b\"],[0.6666666666666666,\"#ed7953\"],[0.7777777777777778,\"#fb9f3a\"],[0.8888888888888888,\"#fdca26\"],[1.0,\"#f0f921\"]]}],\"surface\":[{\"type\":\"surface\",\"colorbar\":{\"outlinewidth\":0,\"ticks\":\"\"},\"colorscale\":[[0.0,\"#0d0887\"],[0.1111111111111111,\"#46039f\"],[0.2222222222222222,\"#7201a8\"],[0.3333333333333333,\"#9c179e\"],[0.4444444444444444,\"#bd3786\"],[0.5555555555555556,\"#d8576b\"],[0.6666666666666666,\"#ed7953\"],[0.7777777777777778,\"#fb9f3a\"],[0.8888888888888888,\"#fdca26\"],[1.0,\"#f0f921\"]]}],\"mesh3d\":[{\"type\":\"mesh3d\",\"colorbar\":{\"outlinewidth\":0,\"ticks\":\"\"}}],\"scatter\":[{\"fillpattern\":{\"fillmode\":\"overlay\",\"size\":10,\"solidity\":0.2},\"type\":\"scatter\"}],\"parcoords\":[{\"type\":\"parcoords\",\"line\":{\"colorbar\":{\"outlinewidth\":0,\"ticks\":\"\"}}}],\"scatterpolargl\":[{\"type\":\"scatterpolargl\",\"marker\":{\"colorbar\":{\"outlinewidth\":0,\"ticks\":\"\"}}}],\"bar\":[{\"error_x\":{\"color\":\"#2a3f5f\"},\"error_y\":{\"color\":\"#2a3f5f\"},\"marker\":{\"line\":{\"color\":\"#E5ECF6\",\"width\":0.5},\"pattern\":{\"fillmode\":\"overlay\",\"size\":10,\"solidity\":0.2}},\"type\":\"bar\"}],\"scattergeo\":[{\"type\":\"scattergeo\",\"marker\":{\"colorbar\":{\"outlinewidth\":0,\"ticks\":\"\"}}}],\"scatterpolar\":[{\"type\":\"scatterpolar\",\"marker\":{\"colorbar\":{\"outlinewidth\":0,\"ticks\":\"\"}}}],\"histogram\":[{\"marker\":{\"pattern\":{\"fillmode\":\"overlay\",\"size\":10,\"solidity\":0.2}},\"type\":\"histogram\"}],\"scattergl\":[{\"type\":\"scattergl\",\"marker\":{\"colorbar\":{\"outlinewidth\":0,\"ticks\":\"\"}}}],\"scatter3d\":[{\"type\":\"scatter3d\",\"line\":{\"colorbar\":{\"outlinewidth\":0,\"ticks\":\"\"}},\"marker\":{\"colorbar\":{\"outlinewidth\":0,\"ticks\":\"\"}}}],\"scattermapbox\":[{\"type\":\"scattermapbox\",\"marker\":{\"colorbar\":{\"outlinewidth\":0,\"ticks\":\"\"}}}],\"scatterternary\":[{\"type\":\"scatterternary\",\"marker\":{\"colorbar\":{\"outlinewidth\":0,\"ticks\":\"\"}}}],\"scattercarpet\":[{\"type\":\"scattercarpet\",\"marker\":{\"colorbar\":{\"outlinewidth\":0,\"ticks\":\"\"}}}],\"carpet\":[{\"aaxis\":{\"endlinecolor\":\"#2a3f5f\",\"gridcolor\":\"white\",\"linecolor\":\"white\",\"minorgridcolor\":\"white\",\"startlinecolor\":\"#2a3f5f\"},\"baxis\":{\"endlinecolor\":\"#2a3f5f\",\"gridcolor\":\"white\",\"linecolor\":\"white\",\"minorgridcolor\":\"white\",\"startlinecolor\":\"#2a3f5f\"},\"type\":\"carpet\"}],\"table\":[{\"cells\":{\"fill\":{\"color\":\"#EBF0F8\"},\"line\":{\"color\":\"white\"}},\"header\":{\"fill\":{\"color\":\"#C8D4E3\"},\"line\":{\"color\":\"white\"}},\"type\":\"table\"}],\"barpolar\":[{\"marker\":{\"line\":{\"color\":\"#E5ECF6\",\"width\":0.5},\"pattern\":{\"fillmode\":\"overlay\",\"size\":10,\"solidity\":0.2}},\"type\":\"barpolar\"}],\"pie\":[{\"automargin\":true,\"type\":\"pie\"}]},\"layout\":{\"autotypenumbers\":\"strict\",\"colorway\":[\"#636efa\",\"#EF553B\",\"#00cc96\",\"#ab63fa\",\"#FFA15A\",\"#19d3f3\",\"#FF6692\",\"#B6E880\",\"#FF97FF\",\"#FECB52\"],\"font\":{\"color\":\"#2a3f5f\"},\"hovermode\":\"closest\",\"hoverlabel\":{\"align\":\"left\"},\"paper_bgcolor\":\"white\",\"plot_bgcolor\":\"#E5ECF6\",\"polar\":{\"bgcolor\":\"#E5ECF6\",\"angularaxis\":{\"gridcolor\":\"white\",\"linecolor\":\"white\",\"ticks\":\"\"},\"radialaxis\":{\"gridcolor\":\"white\",\"linecolor\":\"white\",\"ticks\":\"\"}},\"ternary\":{\"bgcolor\":\"#E5ECF6\",\"aaxis\":{\"gridcolor\":\"white\",\"linecolor\":\"white\",\"ticks\":\"\"},\"baxis\":{\"gridcolor\":\"white\",\"linecolor\":\"white\",\"ticks\":\"\"},\"caxis\":{\"gridcolor\":\"white\",\"linecolor\":\"white\",\"ticks\":\"\"}},\"coloraxis\":{\"colorbar\":{\"outlinewidth\":0,\"ticks\":\"\"}},\"colorscale\":{\"sequential\":[[0.0,\"#0d0887\"],[0.1111111111111111,\"#46039f\"],[0.2222222222222222,\"#7201a8\"],[0.3333333333333333,\"#9c179e\"],[0.4444444444444444,\"#bd3786\"],[0.5555555555555556,\"#d8576b\"],[0.6666666666666666,\"#ed7953\"],[0.7777777777777778,\"#fb9f3a\"],[0.8888888888888888,\"#fdca26\"],[1.0,\"#f0f921\"]],\"sequentialminus\":[[0.0,\"#0d0887\"],[0.1111111111111111,\"#46039f\"],[0.2222222222222222,\"#7201a8\"],[0.3333333333333333,\"#9c179e\"],[0.4444444444444444,\"#bd3786\"],[0.5555555555555556,\"#d8576b\"],[0.6666666666666666,\"#ed7953\"],[0.7777777777777778,\"#fb9f3a\"],[0.8888888888888888,\"#fdca26\"],[1.0,\"#f0f921\"]],\"diverging\":[[0,\"#8e0152\"],[0.1,\"#c51b7d\"],[0.2,\"#de77ae\"],[0.3,\"#f1b6da\"],[0.4,\"#fde0ef\"],[0.5,\"#f7f7f7\"],[0.6,\"#e6f5d0\"],[0.7,\"#b8e186\"],[0.8,\"#7fbc41\"],[0.9,\"#4d9221\"],[1,\"#276419\"]]},\"xaxis\":{\"gridcolor\":\"white\",\"linecolor\":\"white\",\"ticks\":\"\",\"title\":{\"standoff\":15},\"zerolinecolor\":\"white\",\"automargin\":true,\"zerolinewidth\":2},\"yaxis\":{\"gridcolor\":\"white\",\"linecolor\":\"white\",\"ticks\":\"\",\"title\":{\"standoff\":15},\"zerolinecolor\":\"white\",\"automargin\":true,\"zerolinewidth\":2},\"scene\":{\"xaxis\":{\"backgroundcolor\":\"#E5ECF6\",\"gridcolor\":\"white\",\"linecolor\":\"white\",\"showbackground\":true,\"ticks\":\"\",\"zerolinecolor\":\"white\",\"gridwidth\":2},\"yaxis\":{\"backgroundcolor\":\"#E5ECF6\",\"gridcolor\":\"white\",\"linecolor\":\"white\",\"showbackground\":true,\"ticks\":\"\",\"zerolinecolor\":\"white\",\"gridwidth\":2},\"zaxis\":{\"backgroundcolor\":\"#E5ECF6\",\"gridcolor\":\"white\",\"linecolor\":\"white\",\"showbackground\":true,\"ticks\":\"\",\"zerolinecolor\":\"white\",\"gridwidth\":2}},\"shapedefaults\":{\"line\":{\"color\":\"#2a3f5f\"}},\"annotationdefaults\":{\"arrowcolor\":\"#2a3f5f\",\"arrowhead\":0,\"arrowwidth\":1},\"geo\":{\"bgcolor\":\"white\",\"landcolor\":\"#E5ECF6\",\"subunitcolor\":\"white\",\"showland\":true,\"showlakes\":true,\"lakecolor\":\"white\"},\"title\":{\"x\":0.05},\"mapbox\":{\"style\":\"light\"}}},\"xaxis\":{\"anchor\":\"y\",\"domain\":[0.0,1.0],\"title\":{\"text\":\"Hauptkomponente 1\"},\"range\":[-5.7155615482540085,5.7155615482540085],\"showgrid\":true,\"gridcolor\":\"rgba(0, 0, 0, 0.2)\",\"gridwidth\":1,\"zeroline\":true,\"zerolinecolor\":\"rgba(0, 0, 0, 0.2)\",\"zerolinewidth\":1},\"yaxis\":{\"anchor\":\"x\",\"domain\":[0.0,1.0],\"title\":{\"text\":\"Hauptkomponente 2\"},\"range\":[-2.3013829810062854,2.3013829810062854],\"showgrid\":true,\"gridcolor\":\"rgba(0, 0, 0, 0.2)\",\"gridwidth\":1,\"zeroline\":true,\"zerolinecolor\":\"rgba(0, 0, 0, 0.2)\",\"zerolinewidth\":1},\"legend\":{\"tracegroupgap\":0,\"itemsizing\":\"constant\"},\"margin\":{\"t\":60},\"paper_bgcolor\":\"rgba(0, 0, 0, 0)\",\"plot_bgcolor\":\"rgba(0, 0, 0, 0.1)\"},                        {\"responsive\": true}                    ).then(function(){\n",
              "                            \n",
              "var gd = document.getElementById('026621c5-233d-4dbd-8b91-c271a770d63e');\n",
              "var x = new MutationObserver(function (mutations, observer) {{\n",
              "        var display = window.getComputedStyle(gd).display;\n",
              "        if (!display || display === 'none') {{\n",
              "            console.log([gd, 'removed!']);\n",
              "            Plotly.purge(gd);\n",
              "            observer.disconnect();\n",
              "        }}\n",
              "}});\n",
              "\n",
              "// Listen for the removal of the full notebook cells\n",
              "var notebookContainer = gd.closest('#notebook-container');\n",
              "if (notebookContainer) {{\n",
              "    x.observe(notebookContainer, {childList: true});\n",
              "}}\n",
              "\n",
              "// Listen for the clearing of the current output cell\n",
              "var outputEl = gd.closest('.output');\n",
              "if (outputEl) {{\n",
              "    x.observe(outputEl, {childList: true});\n",
              "}}\n",
              "\n",
              "                        })                };                            </script>        </div>\n",
              "</body>\n",
              "</html>"
            ]
          },
          "metadata": {}
        }
      ]
    },
    {
      "cell_type": "markdown",
      "source": [
        "# Lösungsmittel"
      ],
      "metadata": {
        "id": "zwP_P6hd1zgK"
      }
    },
    {
      "cell_type": "code",
      "source": [
        "!pip install molplotly\n",
        "\n",
        "import pandas as pd\n",
        "import numpy as np\n",
        "from sklearn.preprocessing import StandardScaler\n",
        "from sklearn.decomposition import PCA\n",
        "import plotly.express as px\n",
        "import molplotly"
      ],
      "metadata": {
        "colab": {
          "base_uri": "https://localhost:8080/",
          "height": 1000
        },
        "id": "DZgKCat912EP",
        "outputId": "61141e2b-1bbe-432b-bbe2-101f2b7caf49"
      },
      "execution_count": 37,
      "outputs": [
        {
          "output_type": "stream",
          "name": "stdout",
          "text": [
            "Looking in indexes: https://pypi.org/simple, https://us-python.pkg.dev/colab-wheels/public/simple/\n",
            "Collecting molplotly\n",
            "  Downloading molplotly-1.1.7.tar.gz (16 kB)\n",
            "  Preparing metadata (setup.py) ... \u001b[?25l\u001b[?25hdone\n",
            "Collecting dash>=2.0.0\n",
            "  Downloading dash-2.9.3-py3-none-any.whl (10.2 MB)\n",
            "\u001b[2K     \u001b[90m━━━━━━━━━━━━━━━━━━━━━━━━━━━━━━━━━━━━━━━━\u001b[0m \u001b[32m10.2/10.2 MB\u001b[0m \u001b[31m46.7 MB/s\u001b[0m eta \u001b[36m0:00:00\u001b[0m\n",
            "\u001b[?25hRequirement already satisfied: werkzeug>=2.0.0 in /usr/local/lib/python3.10/dist-packages (from molplotly) (2.3.0)\n",
            "Collecting jupyter-dash>=0.4.2\n",
            "  Downloading jupyter_dash-0.4.2-py3-none-any.whl (23 kB)\n",
            "Requirement already satisfied: plotly>=5.0.0 in /usr/local/lib/python3.10/dist-packages (from molplotly) (5.13.1)\n",
            "Collecting rdkit-pypi>=2021.9.4\n",
            "  Downloading rdkit_pypi-2022.9.5-cp310-cp310-manylinux_2_17_x86_64.manylinux2014_x86_64.whl (29.4 MB)\n",
            "\u001b[2K     \u001b[90m━━━━━━━━━━━━━━━━━━━━━━━━━━━━━━━━━━━━━━━━\u001b[0m \u001b[32m29.4/29.4 MB\u001b[0m \u001b[31m32.1 MB/s\u001b[0m eta \u001b[36m0:00:00\u001b[0m\n",
            "\u001b[?25hRequirement already satisfied: pandas in /usr/local/lib/python3.10/dist-packages (from molplotly) (1.5.3)\n",
            "Requirement already satisfied: ipykernel in /usr/local/lib/python3.10/dist-packages (from molplotly) (5.5.6)\n",
            "Requirement already satisfied: nbformat in /usr/local/lib/python3.10/dist-packages (from molplotly) (5.8.0)\n",
            "Collecting dash-html-components==2.0.0\n",
            "  Downloading dash_html_components-2.0.0-py3-none-any.whl (4.1 kB)\n",
            "Collecting dash-table==5.0.0\n",
            "  Downloading dash_table-5.0.0-py3-none-any.whl (3.9 kB)\n",
            "Collecting dash-core-components==2.0.0\n",
            "  Downloading dash_core_components-2.0.0-py3-none-any.whl (3.8 kB)\n",
            "Requirement already satisfied: Flask>=1.0.4 in /usr/local/lib/python3.10/dist-packages (from dash>=2.0.0->molplotly) (2.2.4)\n",
            "Requirement already satisfied: nest-asyncio in /usr/local/lib/python3.10/dist-packages (from jupyter-dash>=0.4.2->molplotly) (1.5.6)\n",
            "Collecting retrying\n",
            "  Downloading retrying-1.3.4-py3-none-any.whl (11 kB)\n",
            "Collecting ansi2html\n",
            "  Downloading ansi2html-1.8.0-py3-none-any.whl (16 kB)\n",
            "Requirement already satisfied: ipython in /usr/local/lib/python3.10/dist-packages (from jupyter-dash>=0.4.2->molplotly) (7.34.0)\n",
            "Requirement already satisfied: requests in /usr/local/lib/python3.10/dist-packages (from jupyter-dash>=0.4.2->molplotly) (2.27.1)\n",
            "Requirement already satisfied: tenacity>=6.2.0 in /usr/local/lib/python3.10/dist-packages (from plotly>=5.0.0->molplotly) (8.2.2)\n",
            "Requirement already satisfied: Pillow in /usr/local/lib/python3.10/dist-packages (from rdkit-pypi>=2021.9.4->molplotly) (8.4.0)\n",
            "Requirement already satisfied: numpy in /usr/local/lib/python3.10/dist-packages (from rdkit-pypi>=2021.9.4->molplotly) (1.22.4)\n",
            "Requirement already satisfied: MarkupSafe>=2.1.1 in /usr/local/lib/python3.10/dist-packages (from werkzeug>=2.0.0->molplotly) (2.1.2)\n",
            "Requirement already satisfied: tornado>=4.2 in /usr/local/lib/python3.10/dist-packages (from ipykernel->molplotly) (6.2)\n",
            "Requirement already satisfied: ipython-genutils in /usr/local/lib/python3.10/dist-packages (from ipykernel->molplotly) (0.2.0)\n",
            "Requirement already satisfied: traitlets>=4.1.0 in /usr/local/lib/python3.10/dist-packages (from ipykernel->molplotly) (5.7.1)\n",
            "Requirement already satisfied: jupyter-client in /usr/local/lib/python3.10/dist-packages (from ipykernel->molplotly) (6.1.12)\n",
            "Requirement already satisfied: fastjsonschema in /usr/local/lib/python3.10/dist-packages (from nbformat->molplotly) (2.16.3)\n",
            "Requirement already satisfied: jsonschema>=2.6 in /usr/local/lib/python3.10/dist-packages (from nbformat->molplotly) (4.3.3)\n",
            "Requirement already satisfied: jupyter-core in /usr/local/lib/python3.10/dist-packages (from nbformat->molplotly) (5.3.0)\n",
            "Requirement already satisfied: pytz>=2020.1 in /usr/local/lib/python3.10/dist-packages (from pandas->molplotly) (2022.7.1)\n",
            "Requirement already satisfied: python-dateutil>=2.8.1 in /usr/local/lib/python3.10/dist-packages (from pandas->molplotly) (2.8.2)\n",
            "Requirement already satisfied: Jinja2>=3.0 in /usr/local/lib/python3.10/dist-packages (from Flask>=1.0.4->dash>=2.0.0->molplotly) (3.1.2)\n",
            "Requirement already satisfied: click>=8.0 in /usr/local/lib/python3.10/dist-packages (from Flask>=1.0.4->dash>=2.0.0->molplotly) (8.1.3)\n",
            "Requirement already satisfied: itsdangerous>=2.0 in /usr/local/lib/python3.10/dist-packages (from Flask>=1.0.4->dash>=2.0.0->molplotly) (2.1.2)\n",
            "Collecting jedi>=0.16\n",
            "  Downloading jedi-0.18.2-py2.py3-none-any.whl (1.6 MB)\n",
            "\u001b[2K     \u001b[90m━━━━━━━━━━━━━━━━━━━━━━━━━━━━━━━━━━━━━━━━\u001b[0m \u001b[32m1.6/1.6 MB\u001b[0m \u001b[31m38.4 MB/s\u001b[0m eta \u001b[36m0:00:00\u001b[0m\n",
            "\u001b[?25hRequirement already satisfied: prompt-toolkit!=3.0.0,!=3.0.1,<3.1.0,>=2.0.0 in /usr/local/lib/python3.10/dist-packages (from ipython->jupyter-dash>=0.4.2->molplotly) (3.0.38)\n",
            "Requirement already satisfied: matplotlib-inline in /usr/local/lib/python3.10/dist-packages (from ipython->jupyter-dash>=0.4.2->molplotly) (0.1.6)\n",
            "Requirement already satisfied: pexpect>4.3 in /usr/local/lib/python3.10/dist-packages (from ipython->jupyter-dash>=0.4.2->molplotly) (4.8.0)\n",
            "Requirement already satisfied: pygments in /usr/local/lib/python3.10/dist-packages (from ipython->jupyter-dash>=0.4.2->molplotly) (2.14.0)\n",
            "Requirement already satisfied: decorator in /usr/local/lib/python3.10/dist-packages (from ipython->jupyter-dash>=0.4.2->molplotly) (4.4.2)\n",
            "Requirement already satisfied: backcall in /usr/local/lib/python3.10/dist-packages (from ipython->jupyter-dash>=0.4.2->molplotly) (0.2.0)\n",
            "Requirement already satisfied: pickleshare in /usr/local/lib/python3.10/dist-packages (from ipython->jupyter-dash>=0.4.2->molplotly) (0.7.5)\n",
            "Requirement already satisfied: setuptools>=18.5 in /usr/local/lib/python3.10/dist-packages (from ipython->jupyter-dash>=0.4.2->molplotly) (67.7.2)\n",
            "Requirement already satisfied: attrs>=17.4.0 in /usr/local/lib/python3.10/dist-packages (from jsonschema>=2.6->nbformat->molplotly) (23.1.0)\n",
            "Requirement already satisfied: pyrsistent!=0.17.0,!=0.17.1,!=0.17.2,>=0.14.0 in /usr/local/lib/python3.10/dist-packages (from jsonschema>=2.6->nbformat->molplotly) (0.19.3)\n",
            "Requirement already satisfied: six>=1.5 in /usr/local/lib/python3.10/dist-packages (from python-dateutil>=2.8.1->pandas->molplotly) (1.16.0)\n",
            "Requirement already satisfied: pyzmq>=13 in /usr/local/lib/python3.10/dist-packages (from jupyter-client->ipykernel->molplotly) (23.2.1)\n",
            "Requirement already satisfied: platformdirs>=2.5 in /usr/local/lib/python3.10/dist-packages (from jupyter-core->nbformat->molplotly) (3.3.0)\n",
            "Requirement already satisfied: charset-normalizer~=2.0.0 in /usr/local/lib/python3.10/dist-packages (from requests->jupyter-dash>=0.4.2->molplotly) (2.0.12)\n",
            "Requirement already satisfied: idna<4,>=2.5 in /usr/local/lib/python3.10/dist-packages (from requests->jupyter-dash>=0.4.2->molplotly) (3.4)\n",
            "Requirement already satisfied: urllib3<1.27,>=1.21.1 in /usr/local/lib/python3.10/dist-packages (from requests->jupyter-dash>=0.4.2->molplotly) (1.26.15)\n",
            "Requirement already satisfied: certifi>=2017.4.17 in /usr/local/lib/python3.10/dist-packages (from requests->jupyter-dash>=0.4.2->molplotly) (2022.12.7)\n",
            "Requirement already satisfied: parso<0.9.0,>=0.8.0 in /usr/local/lib/python3.10/dist-packages (from jedi>=0.16->ipython->jupyter-dash>=0.4.2->molplotly) (0.8.3)\n",
            "Requirement already satisfied: ptyprocess>=0.5 in /usr/local/lib/python3.10/dist-packages (from pexpect>4.3->ipython->jupyter-dash>=0.4.2->molplotly) (0.7.0)\n",
            "Requirement already satisfied: wcwidth in /usr/local/lib/python3.10/dist-packages (from prompt-toolkit!=3.0.0,!=3.0.1,<3.1.0,>=2.0.0->ipython->jupyter-dash>=0.4.2->molplotly) (0.2.6)\n",
            "Building wheels for collected packages: molplotly\n",
            "  Building wheel for molplotly (setup.py) ... \u001b[?25l\u001b[?25hdone\n",
            "  Created wheel for molplotly: filename=molplotly-1.1.7-py3-none-any.whl size=14065 sha256=a4b3426a8002e05eee26d6bf51de3c64d60ce2e3fb29f7ae63174e09d61ab161\n",
            "  Stored in directory: /root/.cache/pip/wheels/ae/77/08/2f99e4c8d1010cbfcd58eb3f750405980c4ae9958c8d2fc749\n",
            "Successfully built molplotly\n",
            "Installing collected packages: dash-table, dash-html-components, dash-core-components, retrying, rdkit-pypi, jedi, ansi2html, dash, jupyter-dash, molplotly\n",
            "Successfully installed ansi2html-1.8.0 dash-2.9.3 dash-core-components-2.0.0 dash-html-components-2.0.0 dash-table-5.0.0 jedi-0.18.2 jupyter-dash-0.4.2 molplotly-1.1.7 rdkit-pypi-2022.9.5 retrying-1.3.4\n"
          ]
        }
      ]
    },
    {
      "cell_type": "code",
      "source": [
        "feature_names = [\n",
        "    \"δD\",\n",
        "    \"δP\",\n",
        "    \"δH\",\n",
        "    \"δHDon\",\n",
        "    \"δHAcc\",\n",
        "    \"MWt\",\n",
        "    \"Density\",\n",
        "    \"MVol\",\n",
        "    \"Area\",\n",
        "    \"Ovality\",\n",
        "    \"BPt\",\n",
        "    \"MPt\",\n",
        "    \"Tc\",\n",
        "    \"Pc\",\n",
        "    \"Vc\",\n",
        "    \"Zc\",\n",
        "    \"AntA\",\n",
        "    \"AntB\",\n",
        "    \"AntC\",\n",
        "    \"Ant1T\",\n",
        "    \"LogKow\",\n",
        "    \"LogS\",\n",
        "    \"Henry\",\n",
        "    \"LogOHR\",\n",
        "    \"RI\",\n",
        "    \"ΔHfus\",\n",
        "    \"ΔHv@BPt\",\n",
        "    \"Trouton\",\n",
        "    \"RER\",\n",
        "    \"Abr-a\",\n",
        "    \"Abr-b\",\n",
        "    \"EdmiW\",\n",
        "    \"Parachor\",\n",
        "    \"RD\",\n",
        "    \"ΔCp\",\n",
        "    \"log η\",\n",
        "    \"Cond.\",\n",
        "    \"SurfTen\",\n",
        "    \"MaxPc\",\n",
        "    \"MinMc\",\n",
        "    \"Sym\",\n",
        "    \"MCI\",\n",
        "    \"ΔHcomb\",\n",
        "    \"ΔHform\",\n",
        "    \"ΔGform\"\n",
        "]\n",
        "\n",
        "dataset = pd.read_csv(\"drive/MyDrive/Colab Notebooks/solvent_dataset_clean.csv\")"
      ],
      "metadata": {
        "id": "A9mTZgJu2G7t"
      },
      "execution_count": 40,
      "outputs": []
    },
    {
      "cell_type": "code",
      "source": [
        "scale_features = True\n",
        "\n",
        "features = dataset[feature_names].to_numpy()\n",
        "\n",
        "if scale_features is True:\n",
        "    for i in range(features.shape[1]):\n",
        "        features[:, i] = (features[:, i] - np.mean(features[:, i])) / np.std(features[:, i])"
      ],
      "metadata": {
        "id": "E4hURURZ2TsN"
      },
      "execution_count": 41,
      "outputs": []
    },
    {
      "cell_type": "code",
      "source": [
        "pca_model = PCA()\n",
        "pca_model.fit(features)\n",
        "data_transformed = pca_model.transform(features)"
      ],
      "metadata": {
        "id": "Uy-Ft1MG2-DW"
      },
      "execution_count": 42,
      "outputs": []
    },
    {
      "cell_type": "code",
      "source": [
        "fig = px.scatter(\n",
        "    data_transformed[:, :2],\n",
        "    x=0,\n",
        "    y=1,\n",
        "    labels={\"0\": \"Hauptkomponente 1\", \"1\": \"Hauptkomponente 2\"},\n",
        "    hover_name=dataset[\"Name\"],\n",
        "\n",
        ")\n",
        "\n",
        "fig.update_traces(hovertemplate=\"<b>%{hovertext}</b><br>\")\n",
        "fig.update_layout(paper_bgcolor=\"rgba(0, 0, 0, 0)\", plot_bgcolor=\"rgba(0, 0, 0, 0.1)\")\n",
        "fig.update_xaxes(showgrid=True, gridcolor=\"rgba(0, 0, 0, 0.2)\", gridwidth=1, zeroline=True, zerolinecolor=\"rgba(0, 0, 0, 0.2)\", zerolinewidth=1)\n",
        "fig.update_yaxes(showgrid=True, gridcolor=\"rgba(0, 0, 0, 0.2)\", gridwidth=1, zeroline=True, zerolinecolor=\"rgba(0, 0, 0, 0.2)\", zerolinewidth=1)\n",
        "\n",
        "app = molplotly.add_molecules(\n",
        "    fig=fig,\n",
        "    df=dataset,\n",
        "    smiles_col=\"SMILES\",\n",
        "    title_col=\"Name\"\n",
        ")\n",
        "\n",
        "app.run_server(mode='inline', port=8700, height=1000)"
      ],
      "metadata": {
        "colab": {
          "base_uri": "https://localhost:8080/",
          "height": 1000
        },
        "id": "KaQaWVp43AAL",
        "outputId": "54e86e6c-8879-4e4f-ffef-162f94c3e0c7"
      },
      "execution_count": 43,
      "outputs": [
        {
          "output_type": "stream",
          "name": "stdout",
          "text": [
            "Dash is running on http://127.0.0.1:8700/\n",
            "\n"
          ]
        },
        {
          "output_type": "stream",
          "name": "stderr",
          "text": [
            "INFO:dash.dash:Dash is running on http://127.0.0.1:8700/\n",
            "\n"
          ]
        },
        {
          "output_type": "display_data",
          "data": {
            "text/plain": [
              "<IPython.core.display.Javascript object>"
            ],
            "application/javascript": [
              "(async (port, path, width, height, cache, element) => {\n",
              "    if (!google.colab.kernel.accessAllowed && !cache) {\n",
              "      return;\n",
              "    }\n",
              "    element.appendChild(document.createTextNode(''));\n",
              "    const url = await google.colab.kernel.proxyPort(port, {cache});\n",
              "    const iframe = document.createElement('iframe');\n",
              "    iframe.src = new URL(path, url).toString();\n",
              "    iframe.height = height;\n",
              "    iframe.width = width;\n",
              "    iframe.style.border = 0;\n",
              "    iframe.allow = [\n",
              "        'accelerometer',\n",
              "        'autoplay',\n",
              "        'camera',\n",
              "        'clipboard-read',\n",
              "        'clipboard-write',\n",
              "        'gyroscope',\n",
              "        'magnetometer',\n",
              "        'microphone',\n",
              "        'serial',\n",
              "        'usb',\n",
              "        'xr-spatial-tracking',\n",
              "    ].join('; ');\n",
              "    element.appendChild(iframe);\n",
              "  })(8700, \"/\", \"100%\", 1000, false, window.element)"
            ]
          },
          "metadata": {}
        }
      ]
    },
    {
      "cell_type": "code",
      "source": [],
      "metadata": {
        "id": "_AFPzK4G3Hj1"
      },
      "execution_count": null,
      "outputs": []
    }
  ]
}